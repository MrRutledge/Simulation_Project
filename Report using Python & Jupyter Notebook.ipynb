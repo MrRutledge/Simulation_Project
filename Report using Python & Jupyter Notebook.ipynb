{
 "cells": [
  {
   "cell_type": "markdown",
   "metadata": {},
   "source": [
    "# SIMULATION OF A MULTIPLE SERVER QEUEING SYSTEM USING PYTHON AND JUPYTER NOTEBOOK"
   ]
  },
  {
   "cell_type": "markdown",
   "metadata": {},
   "source": [
    "## importing the data"
   ]
  },
  {
   "cell_type": "code",
   "execution_count": 11,
   "metadata": {},
   "outputs": [],
   "source": [
    "import pandas as pd \n",
    "from pandas import ExcelWriter \n",
    "from pandas import ExcelFile"
   ]
  },
  {
   "cell_type": "code",
   "execution_count": 15,
   "metadata": {},
   "outputs": [],
   "source": [
    "data = pd.read_excel(\"data/Single Server Queue System.xlsm\")\n",
    "Inter_arrivaltime = pd.read_csv(\"data/interarrival_Time.txt\")\n",
    "Servicetime = pd.read_csv(\"data/ServiceTime.txt\")\n",
    "csv_data = pd.read_csv(\"data/Single SQS.csv\")"
   ]
  },
  {
   "cell_type": "code",
   "execution_count": 14,
   "metadata": {},
   "outputs": [
    {
     "data": {
      "text/plain": [
       "Index(['0.00'], dtype='object')"
      ]
     },
     "execution_count": 14,
     "metadata": {},
     "output_type": "execute_result"
    }
   ],
   "source": [
    "Inter_arrivaltime.rename(columns ={'0.00':'I_arri'})"
   ]
  },
  {
   "cell_type": "code",
   "execution_count": 45,
   "metadata": {},
   "outputs": [],
   "source": [
    "csv_data.set_index('Customer' , inplace = True)"
   ]
  },
  {
   "cell_type": "code",
   "execution_count": 52,
   "metadata": {},
   "outputs": [],
   "source": [
    "csv_data.dropna(how = 'any', inplace = True)"
   ]
  },
  {
   "cell_type": "code",
   "execution_count": 54,
   "metadata": {},
   "outputs": [
    {
     "data": {
      "text/html": [
       "<div>\n",
       "<style scoped>\n",
       "    .dataframe tbody tr th:only-of-type {\n",
       "        vertical-align: middle;\n",
       "    }\n",
       "\n",
       "    .dataframe tbody tr th {\n",
       "        vertical-align: top;\n",
       "    }\n",
       "\n",
       "    .dataframe thead th {\n",
       "        text-align: right;\n",
       "    }\n",
       "</style>\n",
       "<table border=\"1\" class=\"dataframe\">\n",
       "  <thead>\n",
       "    <tr style=\"text-align: right;\">\n",
       "      <th></th>\n",
       "      <th>Interarrival</th>\n",
       "      <th>Arrival_Time</th>\n",
       "      <th>Start_Service_Time</th>\n",
       "      <th>End_Service_Time</th>\n",
       "      <th>Queue_Waiting_Time</th>\n",
       "      <th>Service_Time</th>\n",
       "      <th>Total_Time_in_the_System</th>\n",
       "      <th>Idle_Time_of_Server</th>\n",
       "    </tr>\n",
       "    <tr>\n",
       "      <th>Customer</th>\n",
       "      <th></th>\n",
       "      <th></th>\n",
       "      <th></th>\n",
       "      <th></th>\n",
       "      <th></th>\n",
       "      <th></th>\n",
       "      <th></th>\n",
       "      <th></th>\n",
       "    </tr>\n",
       "  </thead>\n",
       "  <tbody>\n",
       "    <tr>\n",
       "      <th>1.0</th>\n",
       "      <td>00:00:00</td>\n",
       "      <td>08:31:00</td>\n",
       "      <td>08:31:00</td>\n",
       "      <td>08:33:25</td>\n",
       "      <td>00:00:00</td>\n",
       "      <td>00:02:25</td>\n",
       "      <td>00:02:25</td>\n",
       "      <td>00:00:00</td>\n",
       "    </tr>\n",
       "    <tr>\n",
       "      <th>2.0</th>\n",
       "      <td>00:00:23</td>\n",
       "      <td>08:31:23</td>\n",
       "      <td>08:33:30</td>\n",
       "      <td>08:33:47</td>\n",
       "      <td>00:02:07</td>\n",
       "      <td>00:00:17</td>\n",
       "      <td>00:02:24</td>\n",
       "      <td>00:00:05</td>\n",
       "    </tr>\n",
       "    <tr>\n",
       "      <th>3.0</th>\n",
       "      <td>00:02:37</td>\n",
       "      <td>08:34:00</td>\n",
       "      <td>08:34:45</td>\n",
       "      <td>08:36:00</td>\n",
       "      <td>00:00:45</td>\n",
       "      <td>00:01:15</td>\n",
       "      <td>00:02:00</td>\n",
       "      <td>00:00:58</td>\n",
       "    </tr>\n",
       "    <tr>\n",
       "      <th>4.0</th>\n",
       "      <td>00:03:25</td>\n",
       "      <td>08:37:25</td>\n",
       "      <td>08:38:00</td>\n",
       "      <td>08:39:40</td>\n",
       "      <td>00:00:35</td>\n",
       "      <td>00:01:40</td>\n",
       "      <td>00:02:15</td>\n",
       "      <td>00:02:00</td>\n",
       "    </tr>\n",
       "  </tbody>\n",
       "</table>\n",
       "</div>"
      ],
      "text/plain": [
       "         Interarrival Arrival_Time Start_Service_Time End_Service_Time  \\\n",
       "Customer                                                                 \n",
       "1.0          00:00:00     08:31:00           08:31:00         08:33:25   \n",
       "2.0          00:00:23     08:31:23           08:33:30         08:33:47   \n",
       "3.0          00:02:37     08:34:00           08:34:45         08:36:00   \n",
       "4.0          00:03:25     08:37:25           08:38:00         08:39:40   \n",
       "\n",
       "         Queue_Waiting_Time Service_Time Total_Time_in_the_System  \\\n",
       "Customer                                                            \n",
       "1.0                00:00:00     00:02:25                 00:02:25   \n",
       "2.0                00:02:07     00:00:17                 00:02:24   \n",
       "3.0                00:00:45     00:01:15                 00:02:00   \n",
       "4.0                00:00:35     00:01:40                 00:02:15   \n",
       "\n",
       "         Idle_Time_of_Server  \n",
       "Customer                      \n",
       "1.0                 00:00:00  \n",
       "2.0                 00:00:05  \n",
       "3.0                 00:00:58  \n",
       "4.0                 00:02:00  "
      ]
     },
     "execution_count": 54,
     "metadata": {},
     "output_type": "execute_result"
    }
   ],
   "source": [
    "csv_data.head(4)"
   ]
  },
  {
   "cell_type": "code",
   "execution_count": null,
   "metadata": {},
   "outputs": [],
   "source": []
  },
  {
   "cell_type": "code",
   "execution_count": null,
   "metadata": {},
   "outputs": [],
   "source": []
  },
  {
   "cell_type": "code",
   "execution_count": null,
   "metadata": {},
   "outputs": [],
   "source": []
  }
 ],
 "metadata": {
  "kernelspec": {
   "display_name": "Python 3",
   "language": "python",
   "name": "python3"
  },
  "language_info": {
   "codemirror_mode": {
    "name": "ipython",
    "version": 3
   },
   "file_extension": ".py",
   "mimetype": "text/x-python",
   "name": "python",
   "nbconvert_exporter": "python",
   "pygments_lexer": "ipython3",
   "version": "3.6.6"
  }
 },
 "nbformat": 4,
 "nbformat_minor": 2
}
